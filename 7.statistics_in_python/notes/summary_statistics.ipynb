{
 "cells": [
  {
   "cell_type": "markdown",
   "metadata": {},
   "source": [
    "# functions"
   ]
  },
  {
   "cell_type": "code",
   "execution_count": null,
   "metadata": {},
   "outputs": [
    {
     "data": {
      "text/html": [
       "\n",
       "        <iframe\n",
       "            width=\"100%\"\n",
       "            height=\"600px\"\n",
       "            src=\"./data/demo.pdf\"\n",
       "            frameborder=\"0\"\n",
       "            allowfullscreen\n",
       "            \n",
       "        ></iframe>\n",
       "        "
      ],
      "text/plain": [
       "<IPython.lib.display.IFrame at 0x219d423fc90>"
      ]
     },
     "execution_count": 1,
     "metadata": {},
     "output_type": "execute_result"
    }
   ],
   "source": [
    "from IPython.display import IFrame\n",
    "\n",
    "# Display PDF with responsive width and height\n",
    "IFrame(\"https://projector-video-pdf-converter.datacamp.com/25412/chapter1.pdf\", width=\"100%\", height=\"600px\")"
   ]
  },
  {
   "cell_type": "markdown",
   "metadata": {},
   "source": [
    "## Introduction to Statistics in Python\n",
    "## (theory)"
   ]
  },
  {
   "cell_type": "markdown",
   "metadata": {},
   "source": [
    "1. Types of statistics\n",
    "   - Descriptive statistics\n",
    "     - Measures of central tendency\n",
    "       - Mean\n",
    "       - Median\n",
    "       - Mode\n",
    "     - Measures of dispersion\n",
    "       - Range\n",
    "       - Variance\n",
    "       - Standard deviation\n",
    "   - Inferential statistics\n",
    "        - Hypothesis testing\n",
    "        - Null hypothesis\n",
    "        - Alternative hypothesis\n",
    "        - Type I error\n",
    "        - Type II error\n",
    "        - Confidence intervals\n",
    "        - p-values"
   ]
  },
  {
   "cell_type": "markdown",
   "metadata": {},
   "source": [
    "2. Types of data\n",
    "   - Categorical data (qualitative data)\n",
    "     - Nominal data\n",
    "     - Ordinal data\n",
    "   - Numerical data (quantitative data)\n",
    "     - Discrete data\n",
    "     - Continuous data"
   ]
  }
 ],
 "metadata": {
  "kernelspec": {
   "display_name": "Python 3",
   "language": "python",
   "name": "python3"
  },
  "language_info": {
   "codemirror_mode": {
    "name": "ipython",
    "version": 3
   },
   "file_extension": ".py",
   "mimetype": "text/x-python",
   "name": "python",
   "nbconvert_exporter": "python",
   "pygments_lexer": "ipython3",
   "version": "3.11.4"
  }
 },
 "nbformat": 4,
 "nbformat_minor": 2
}
