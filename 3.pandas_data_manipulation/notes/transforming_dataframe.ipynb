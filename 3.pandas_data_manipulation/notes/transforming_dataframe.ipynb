{
 "cells": [
  {
   "cell_type": "markdown",
   "metadata": {},
   "source": [
    "# Transforming dataframe"
   ]
  },
  {
   "cell_type": "code",
   "execution_count": 1,
   "metadata": {},
   "outputs": [
    {
     "data": {
      "text/html": [
       "\n",
       "        <iframe\n",
       "            width=\"100%\"\n",
       "            height=\"600px\"\n",
       "            src=\"https://projector-video-pdf-converter.datacamp.com/22066/chapter1.pdf\"\n",
       "            frameborder=\"0\"\n",
       "            allowfullscreen\n",
       "            \n",
       "        ></iframe>\n",
       "        "
      ],
      "text/plain": [
       "<IPython.lib.display.IFrame at 0x72280496cb60>"
      ]
     },
     "execution_count": 1,
     "metadata": {},
     "output_type": "execute_result"
    }
   ],
   "source": [
    "from IPython.display import IFrame\n",
    "\n",
    "# Display PDF with responsive width and height\n",
    "IFrame(\"https://projector-video-pdf-converter.datacamp.com/22066/chapter1.pdf\", width=\"100%\", height=\"600px\")"
   ]
  },
  {
   "cell_type": "markdown",
   "metadata": {},
   "source": [
    "## Introducing DataFrame"
   ]
  },
  {
   "cell_type": "markdown",
   "metadata": {},
   "source": [
    "Pandas Building Base\n",
    "- NumPy: for powerful data manipulation\n",
    "- matplotlib: for data visualization"
   ]
  },
  {
   "cell_type": "markdown",
   "metadata": {},
   "source": [
    "explore dataframe methods and attributes\n",
    "- head() : method : returns the first n rows of the DataFrame\n",
    "    - example: df.head(5)\n",
    "   [![https://imgur.com/YV4KpeZ.png](https://imgur.com/YV4KpeZ.png)](https://imgur.com/YV4KpeZ.png)\n",
    "- tail() : method : returns the last n rows of the DataFrame\n",
    "    - example: df.tail(5)\n",
    "    [![https://imgur.com/Bno9zKj.png](https://imgur.com/Bno9zKjl.png)](https://imgur.com/Bno9zKjl.png)\n",
    "- shape : attribute : returns a tuple representing the dimensions of the DataFrame\n",
    "    - example: df.shape\n",
    "    [![https://imgur.com/MfPpIjW.png](https://imgur.com/MfPpIjW.png)](https://imgur.com/MfPpIjW.png)\n",
    "- info() : method : provides a concise summary of the DataFrame\n",
    "    - example: df.info()\n",
    "    [![https://imgur.com/FhgZwz9.png](https://imgur.com/FhgZwz9.png)](https://imgur.com/FhgZwz9.png)\n",
    "- describe() : method : generates descriptive statistics of the DataFrame\n",
    "    - example: df.describe()\n",
    "    [![https://imgur.com/UqvlgK8.png](https://imgur.com/UqvlgK8l.png)](https://imgur.com/UqvlgK8l.png)\n",
    "- columns : attribute : returns the column labels of the DataFrame\n",
    "    - example: df.columns\n",
    "    [![https://imgur.com/6Ra2zVY.png](https://imgur.com/6Ra2zVY.png)](https://imgur.com/6Ra2zVY.png)\n",
    "\n",
    "- [![https://imgur.com/x8J9pAo.png](https://imgur.com/x8J9pAo.png)](https://imgur.com/x8J9pAo.png)\n"
   ]
  },
  {
   "cell_type": "markdown",
   "metadata": {},
   "source": [
    "### Sorting and subsetting"
   ]
  },
  {
   "cell_type": "markdown",
   "metadata": {},
   "source": [
    "Sorting rows\n",
    "[![https://imgur.com/PJrIwyz.png](https://imgur.com/PJrIwyz.png)](https://imgur.com/PJrIwyz.png)\n",
    "\n",
    "Finding interesting bits of data in a DataFrame is often easier if you change the order of the rows. You can sort the rows by passing a column name to .sort_values().\n",
    "\n",
    "In cases where rows have the same value (this is common if you sort on a categorical variable), you may wish to break the ties by sorting on another column. You can sort on multiple columns in this way by passing a list of column names.\n",
    "Sort on … \tSyntax\n",
    "one column \tdf.sort_values(\"breed\")\n",
    "multiple columns \tdf.sort_values([\"breed\", \"weight_kg\"])\n",
    "\n",
    "By combining .sort_values() with .head(), you can answer questions in the form, \"What are the top cases where…?\".\n",
    "\n",
    "homelessness is available and pandas is loaded as pd."
   ]
  },
  {
   "cell_type": "code",
   "execution_count": 2,
   "metadata": {},
   "outputs": [],
   "source": [
    "import pandas as pd\n",
    "homelessness = pd.read_csv('./data/homelessness.csv')"
   ]
  },
  {
   "cell_type": "code",
   "execution_count": 3,
   "metadata": {},
   "outputs": [
    {
     "name": "stdout",
     "output_type": "stream",
     "text": [
      "    Unnamed: 0              region         state  individuals  family_members  \\\n",
      "50          50            Mountain       Wyoming        434.0           205.0   \n",
      "34          34  West North Central  North Dakota        467.0            75.0   \n",
      "7            7      South Atlantic      Delaware        708.0           374.0   \n",
      "39          39         New England  Rhode Island        747.0           354.0   \n",
      "45          45         New England       Vermont        780.0           511.0   \n",
      "\n",
      "    state_pop  \n",
      "50     577601  \n",
      "34     758080  \n",
      "7      965479  \n",
      "39    1058287  \n",
      "45     624358  \n"
     ]
    }
   ],
   "source": [
    "# Sort homelessness by individuals\n",
    "homelessness_ind = homelessness.sort_values('individuals')\n",
    "\n",
    "# Print the top few rows\n",
    "print(homelessness_ind.head())"
   ]
  },
  {
   "cell_type": "code",
   "execution_count": 4,
   "metadata": {},
   "outputs": [
    {
     "name": "stdout",
     "output_type": "stream",
     "text": [
      "    Unnamed: 0              region          state  individuals  \\\n",
      "32          32        Mid-Atlantic       New York      39827.0   \n",
      "4            4             Pacific     California     109008.0   \n",
      "21          21         New England  Massachusetts       6811.0   \n",
      "9            9      South Atlantic        Florida      21443.0   \n",
      "43          43  West South Central          Texas      19199.0   \n",
      "\n",
      "    family_members  state_pop  \n",
      "32         52070.0   19530351  \n",
      "4          20964.0   39461588  \n",
      "21         13257.0    6882635  \n",
      "9           9587.0   21244317  \n",
      "43          6111.0   28628666  \n"
     ]
    }
   ],
   "source": [
    "# Sort homelessness by descending family members\n",
    "homelessness_fam = homelessness.sort_values('family_members', ascending=False)\n",
    "\n",
    "print(homelessness_fam.head())"
   ]
  },
  {
   "cell_type": "code",
   "execution_count": 5,
   "metadata": {},
   "outputs": [
    {
     "name": "stdout",
     "output_type": "stream",
     "text": [
      "    Unnamed: 0              region      state  individuals  family_members  \\\n",
      "13          13  East North Central   Illinois       6752.0          3891.0   \n",
      "35          35  East North Central       Ohio       6929.0          3320.0   \n",
      "22          22  East North Central   Michigan       5209.0          3142.0   \n",
      "49          49  East North Central  Wisconsin       2740.0          2167.0   \n",
      "14          14  East North Central    Indiana       3776.0          1482.0   \n",
      "\n",
      "    state_pop  \n",
      "13   12723071  \n",
      "35   11676341  \n",
      "22    9984072  \n",
      "49    5807406  \n",
      "14    6695497  \n"
     ]
    }
   ],
   "source": [
    "# Sort homelessness by region, then descending family members\n",
    "homelessness_reg_fam = homelessness.sort_values(['region', 'family_members'],ascending=[True, False])\n",
    "\n",
    "# Print the top few rows\n",
    "print(homelessness_reg_fam.head())"
   ]
  },
  {
   "cell_type": "markdown",
   "metadata": {},
   "source": [
    "## subsetting"
   ]
  },
  {
   "cell_type": "markdown",
   "metadata": {},
   "source": [
    "[![https://imgur.com/QrjfgeM.png](https://imgur.com/QrjfgeM.png)](https://imgur.com/QrjfgeM.png)\n",
    "\n",
    "[![https://imgur.com/Ejiaw1G.png](https://imgur.com/Ejiaw1G.png)](https://imgur.com/Ejiaw1G.png)\n",
    "\n",
    "\n",
    "[![https://imgur.com/Kta1y1F.png](https://imgur.com/Kta1y1F.png)](https://imgur.com/Kta1y1F.png)\n",
    "[![https://imgur.com/MHhGUQF.png](https://imgur.com/MHhGUQF.png)](https://imgur.com/MHhGUQF.png)\n",
    "\n",
    "[![https://imgur.com/dJFPaHw.png](https://imgur.com/dJFPaHw.png)](https://imgur.com/dJFPaHw.png)\n",
    "\n",
    "[![https://imgur.com/6Luu9Qz.png](https://imgur.com/6Luu9Qz.png)](https://imgur.com/6Luu9Qz.png)"
   ]
  }
 ],
 "metadata": {
  "kernelspec": {
   "display_name": "Python 3",
   "language": "python",
   "name": "python3"
  },
  "language_info": {
   "codemirror_mode": {
    "name": "ipython",
    "version": 3
   },
   "file_extension": ".py",
   "mimetype": "text/x-python",
   "name": "python",
   "nbconvert_exporter": "python",
   "pygments_lexer": "ipython3",
   "version": "3.12.1"
  }
 },
 "nbformat": 4,
 "nbformat_minor": 2
}
