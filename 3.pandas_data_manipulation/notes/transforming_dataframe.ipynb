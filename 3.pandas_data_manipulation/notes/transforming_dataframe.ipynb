{
 "cells": [
  {
   "cell_type": "markdown",
   "metadata": {},
   "source": [
    "# Transforming dataframe"
   ]
  },
  {
   "cell_type": "code",
   "execution_count": 1,
   "metadata": {},
   "outputs": [
    {
     "data": {
      "text/html": [
       "\n",
       "        <iframe\n",
       "            width=\"100%\"\n",
       "            height=\"600px\"\n",
       "            src=\"https://projector-video-pdf-converter.datacamp.com/22066/chapter1.pdf\"\n",
       "            frameborder=\"0\"\n",
       "            allowfullscreen\n",
       "            \n",
       "        ></iframe>\n",
       "        "
      ],
      "text/plain": [
       "<IPython.lib.display.IFrame at 0x72280496cb60>"
      ]
     },
     "execution_count": 1,
     "metadata": {},
     "output_type": "execute_result"
    }
   ],
   "source": [
    "from IPython.display import IFrame\n",
    "\n",
    "# Display PDF with responsive width and height\n",
    "IFrame(\"https://projector-video-pdf-converter.datacamp.com/22066/chapter1.pdf\", width=\"100%\", height=\"600px\")"
   ]
  },
  {
   "cell_type": "markdown",
   "metadata": {},
   "source": [
    "## Introducing DataFrame"
   ]
  },
  {
   "cell_type": "markdown",
   "metadata": {},
   "source": [
    "Pandas Building Base\n",
    "- NumPy: for powerful data manipulation\n",
    "- matplotlib: for data visualization"
   ]
  },
  {
   "cell_type": "markdown",
   "metadata": {},
   "source": [
    "explore dataframe methods and attributes\n",
    "- head() : method : returns the first n rows of the DataFrame\n",
    "    - example: df.head(5)\n",
    "   [![https://imgur.com/YV4KpeZ.png](https://imgur.com/YV4KpeZ.png)](https://imgur.com/YV4KpeZ.png)\n",
    "- tail() : method : returns the last n rows of the DataFrame\n",
    "    - example: df.tail(5)\n",
    "    [![https://imgur.com/Bno9zKj.png](https://imgur.com/Bno9zKjl.png)](https://imgur.com/Bno9zKjl.png)\n",
    "- shape : attribute : returns a tuple representing the dimensions of the DataFrame\n",
    "    - example: df.shape\n",
    "    [![https://imgur.com/MfPpIjW.png](https://imgur.com/MfPpIjW.png)](https://imgur.com/MfPpIjW.png)\n",
    "- info() : method : provides a concise summary of the DataFrame\n",
    "    - example: df.info()\n",
    "    [![https://imgur.com/FhgZwz9.png](https://imgur.com/FhgZwz9.png)](https://imgur.com/FhgZwz9.png)\n",
    "- describe() : method : generates descriptive statistics of the DataFrame\n",
    "    - example: df.describe()\n",
    "    [![https://imgur.com/UqvlgK8.png](https://imgur.com/UqvlgK8l.png)](https://imgur.com/UqvlgK8l.png)\n",
    "- columns : attribute : returns the column labels of the DataFrame\n",
    "    - example: df.columns\n",
    "    [![https://imgur.com/6Ra2zVY.png](https://imgur.com/6Ra2zVY.png)](https://imgur.com/6Ra2zVY.png)\n",
    "\n",
    "- [![https://imgur.com/x8J9pAo.png](https://imgur.com/x8J9pAo.png)](https://imgur.com/x8J9pAo.png)\n"
   ]
  },
  {
   "cell_type": "code",
   "execution_count": null,
   "metadata": {},
   "outputs": [],
   "source": []
  }
 ],
 "metadata": {
  "kernelspec": {
   "display_name": "Python 3",
   "language": "python",
   "name": "python3"
  },
  "language_info": {
   "codemirror_mode": {
    "name": "ipython",
    "version": 3
   },
   "file_extension": ".py",
   "mimetype": "text/x-python",
   "name": "python",
   "nbconvert_exporter": "python",
   "pygments_lexer": "ipython3",
   "version": "3.12.1"
  }
 },
 "nbformat": 4,
 "nbformat_minor": 2
}
