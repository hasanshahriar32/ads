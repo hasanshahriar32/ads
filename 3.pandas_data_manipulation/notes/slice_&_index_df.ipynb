{
 "cells": [
  {
   "cell_type": "markdown",
   "id": "963c9c49",
   "metadata": {},
   "source": [
    "# Slicing and Indexing DataFrames"
   ]
  },
  {
   "cell_type": "code",
   "execution_count": 1,
   "id": "57022552",
   "metadata": {},
   "outputs": [
    {
     "data": {
      "text/html": [
       "\n",
       "        <iframe\n",
       "            width=\"100%\"\n",
       "            height=\"600px\"\n",
       "            src=\"https://projector-video-pdf-converter.datacamp.com/22066/chapter3.pdf\"\n",
       "            frameborder=\"0\"\n",
       "            allowfullscreen\n",
       "            \n",
       "        ></iframe>\n",
       "        "
      ],
      "text/plain": [
       "<IPython.lib.display.IFrame at 0x1cb25ac0a90>"
      ]
     },
     "execution_count": 1,
     "metadata": {},
     "output_type": "execute_result"
    }
   ],
   "source": [
    "from IPython.display import IFrame\n",
    "\n",
    "# Display PDF with responsive width and height\n",
    "IFrame(\"https://projector-video-pdf-converter.datacamp.com/22066/chapter3.pdf\", width=\"100%\", height=\"600px\")"
   ]
  },
  {
   "cell_type": "markdown",
   "id": "7d50b479",
   "metadata": {},
   "source": [
    "## I. Explicit Indexing\n",
    "### (theory)"
   ]
  },
  {
   "cell_type": "markdown",
   "id": "3a43bf67",
   "metadata": {},
   "source": [
    "\n",
    "![image.png](./images/image%20copy%204.png)"
   ]
  },
  {
   "cell_type": "markdown",
   "id": "7ece63d0",
   "metadata": {},
   "source": [
    "1. **.columns and .index**\n",
    "    - **.columns**: returns the column labels of the DataFrame.\n",
    "    - **.index**: returns the row labels of the DataFrame.  \n",
    "\n",
    "```\n",
    "dogs.columns \n",
    "Index(['name', 'breed', 'color', 'height_cm', 'weight_kg'], dtype='object') \n",
    "dogs.index \n",
    "RangeIndex(start=0, stop=7, step=1) \n",
    "```"
   ]
  },
  {
   "cell_type": "markdown",
   "id": "f9c164bd",
   "metadata": {},
   "source": [
    "2. **Setting a column as the index**\n",
    "```\t\n",
    "dogs_ind = dogs.set_index(\"name\") \n",
    "print(dogs_ind) \n",
    "```\n",
    "![image.png](./images/image%20copy%205.png)"
   ]
  },
  {
   "cell_type": "markdown",
   "id": "cf93f235",
   "metadata": {},
   "source": [
    "3. **Resetting the index**\n",
    "```\n",
    "dogs_ind.reset_index() \n",
    "```\n",
    "![image.png](./images/image%20copy%206.png)"
   ]
  },
  {
   "cell_type": "markdown",
   "id": "60766a50",
   "metadata": {},
   "source": [
    "4. **Dropping the index**\n",
    "```\n",
    "dogs_ind.reset_index(drop=True) \n",
    "```\n",
    "![image.png](./images/image%20copy%207.png)"
   ]
  },
  {
   "cell_type": "markdown",
   "id": "c5d530a8",
   "metadata": {},
   "source": [
    "5. Indexes Make Subsetting Simpler\n",
    "\n",
    "![image.png](./images/image%20copy%208.png)\n"
   ]
  },
  {
   "cell_type": "markdown",
   "id": "505f5290",
   "metadata": {},
   "source": [
    "6. **index values do not have to be unique**\n",
    "\n",
    "```\n",
    "dogs_ind = dogs.set_index(\"breed\")\n",
    "print(dogs_ind) \n",
    "```\n",
    "\n",
    "![image.png](./images/image%20copy%209.png)"
   ]
  }
 ],
 "metadata": {
  "kernelspec": {
   "display_name": "Python 3",
   "language": "python",
   "name": "python3"
  },
  "language_info": {
   "codemirror_mode": {
    "name": "ipython",
    "version": 3
   },
   "file_extension": ".py",
   "mimetype": "text/x-python",
   "name": "python",
   "nbconvert_exporter": "python",
   "pygments_lexer": "ipython3",
   "version": "3.11.4"
  }
 },
 "nbformat": 4,
 "nbformat_minor": 5
}
