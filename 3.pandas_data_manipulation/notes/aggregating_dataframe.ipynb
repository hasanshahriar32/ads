{
 "cells": [
  {
   "cell_type": "markdown",
   "metadata": {},
   "source": [
    "# Aggregating Dataframe"
   ]
  },
  {
   "cell_type": "code",
   "execution_count": 1,
   "metadata": {},
   "outputs": [
    {
     "data": {
      "text/html": [
       "\n",
       "        <iframe\n",
       "            width=\"100%\"\n",
       "            height=\"600px\"\n",
       "            src=\"https://projector-video-pdf-converter.datacamp.com/22066/chapter2.pdf\"\n",
       "            frameborder=\"0\"\n",
       "            allowfullscreen\n",
       "            \n",
       "        ></iframe>\n",
       "        "
      ],
      "text/plain": [
       "<IPython.lib.display.IFrame at 0x15e09dd2c90>"
      ]
     },
     "execution_count": 1,
     "metadata": {},
     "output_type": "execute_result"
    }
   ],
   "source": [
    "from IPython.display import IFrame\n",
    "\n",
    "# Display PDF with responsive width and height\n",
    "IFrame(\"https://projector-video-pdf-converter.datacamp.com/22066/chapter2.pdf\", width=\"100%\", height=\"600px\")"
   ]
  },
  {
   "cell_type": "markdown",
   "metadata": {},
   "source": [
    "## I. Summary Statistics\n",
    "### (Theory)"
   ]
  },
  {
   "cell_type": "markdown",
   "metadata": {},
   "source": [
    "(a). Summarizing numerical data\n",
    "- .median() \n",
    "- .mode()\n",
    "- .min() \n",
    "- .max()\n",
    "- .var()  \n",
    "- .std()\n",
    "- .sum()\n",
    "- .quantile()\n",
    "\n",
    "example:\n",
    "```python\n",
    "dogs[\"height_cm\"].mean()\n",
    "```\n",
    "\n",
    "\n",
    "\n",
    "(b). Summarizing dates\n",
    "- Oldest dog:\n",
    "```python\n",
    "dogs[\"date_of_birth\"].min()\n",
    "```\n",
    "\n",
    "- Youngest dog:\n",
    "```python\n",
    "dogs[\"date_of_birth\"].max()\n",
    "```\n",
    "\n",
    "(c). the .agg() method\n",
    "- .agg() method allows you to apply multiple functions to a DataFrame or Series.\n",
    "- You can pass a list of functions to .agg() to apply them to the DataFrame or Series.\n",
    "\n",
    "example 1 : percentile determination of a certain column\n",
    "```python\n",
    "def pct30(column):\n",
    "return column.quantile(0.3)\n",
    "\n",
    "dogs[\"weight_kg\"].agg(pct30) #22.599999999999998\n",
    "```\n",
    "\n",
    "example 2: Summaries on multiple columns\n",
    "```python\n",
    "dogs[[\"weight_kg\", \"height_cm\"]].agg(pct30)\n",
    "```\n",
    "output 2: \n",
    "```\n",
    "weight_kg 22.6\n",
    "height_cm 45.4\n",
    "dtype: float64\n",
    "```\n",
    "\n",
    "example 3: multiple summaries\n",
    "```python\n",
    "def pct40(column):\n",
    "return column.quantile(0.4)\n",
    "dogs[\"weight_kg\"].agg([pct30, pct40])\n",
    "```\n",
    "output 3:\n",
    "```\n",
    "pct30 22.6\n",
    "pct40 24.0\n",
    "Name: weight_kg, dtype: float64\n",
    "```\n",
    "\n",
    "(d). commutative \n",
    "[![https://imgur.com/SIuU5kQ.png](https://imgur.com/SIuU5kQ.png)](https://imgur.com/SIuU5kQ.png)\n",
    "\n",
    "\n",
    "(e). Commutative statistics\n",
    "- .cummax()\n",
    "- .cummin()\n",
    "- .cumprod()"
   ]
  },
  {
   "cell_type": "markdown",
   "metadata": {},
   "source": [
    "### 1. (Practice)"
   ]
  },
  {
   "cell_type": "markdown",
   "metadata": {},
   "source": [
    "- mean and median\n",
    "\n",
    "Summary statistics are exactly what they sound like - they summarize many numbers in one statistic. For example, mean, median, minimum, maximum, and standard deviation are summary statistics. Calculating summary statistics allows you to get a better sense of your data, even if there's a lot of it.\n",
    "\n",
    "sales is available and pandas is loaded as pd."
   ]
  },
  {
   "cell_type": "code",
   "execution_count": 2,
   "metadata": {},
   "outputs": [
    {
     "name": "stdout",
     "output_type": "stream",
     "text": [
      "   Unnamed: 0  store type  department        date  weekly_sales  is_holiday  \\\n",
      "0           0      1    A           1  2010-02-05      24924.50       False   \n",
      "1           1      1    A           1  2010-03-05      21827.90       False   \n",
      "2           2      1    A           1  2010-04-02      57258.43       False   \n",
      "3           3      1    A           1  2010-05-07      17413.94       False   \n",
      "4           4      1    A           1  2010-06-04      17558.09       False   \n",
      "\n",
      "   temperature_c  fuel_price_usd_per_l  unemployment  \n",
      "0       5.727778              0.679451         8.106  \n",
      "1       8.055556              0.693452         8.106  \n",
      "2      16.816667              0.718284         7.808  \n",
      "3      22.527778              0.748928         7.808  \n",
      "4      27.050000              0.714586         7.808  \n",
      "<class 'pandas.core.frame.DataFrame'>\n",
      "RangeIndex: 10774 entries, 0 to 10773\n",
      "Data columns (total 10 columns):\n",
      " #   Column                Non-Null Count  Dtype  \n",
      "---  ------                --------------  -----  \n",
      " 0   Unnamed: 0            10774 non-null  int64  \n",
      " 1   store                 10774 non-null  int64  \n",
      " 2   type                  10774 non-null  object \n",
      " 3   department            10774 non-null  int64  \n",
      " 4   date                  10774 non-null  object \n",
      " 5   weekly_sales          10774 non-null  float64\n",
      " 6   is_holiday            10774 non-null  bool   \n",
      " 7   temperature_c         10774 non-null  float64\n",
      " 8   fuel_price_usd_per_l  10774 non-null  float64\n",
      " 9   unemployment          10774 non-null  float64\n",
      "dtypes: bool(1), float64(4), int64(3), object(2)\n",
      "memory usage: 768.2+ KB\n",
      "None\n",
      "23843.95014850566\n",
      "12049.064999999999\n"
     ]
    }
   ],
   "source": [
    "import pandas as pd\n",
    "sales = pd.read_csv('./data/sales_subset.csv')\n",
    "\n",
    "# Print the head of the sales DataFrame\n",
    "print(sales.head())\n",
    "\n",
    "# Print the info about the sales DataFrame\n",
    "print(sales.info())\n",
    "\n",
    "# # Print the mean of weekly_sales\n",
    "print(sales['weekly_sales'].mean())\n",
    "\n",
    "# # Print the median of weekly_sales\n",
    "print(sales['weekly_sales'].median())"
   ]
  },
  {
   "cell_type": "markdown",
   "metadata": {},
   "source": [
    "- Summarizing dates\n",
    "\n",
    "Summary statistics can also be calculated on date columns that have values with the data type datetime64. Some summary statistics — like mean — don't make a ton of sense on dates, but others are super helpful, for example, minimum and maximum, which allow you to see what time range your data covers.\n",
    "\n",
    "sales is available and pandas is loaded as pd."
   ]
  },
  {
   "cell_type": "code",
   "execution_count": 3,
   "metadata": {},
   "outputs": [
    {
     "name": "stdout",
     "output_type": "stream",
     "text": [
      "2012-10-26\n",
      "2010-02-05\n"
     ]
    }
   ],
   "source": [
    "# Print the maximum of the date column\n",
    "print(sales['date'].max())\n",
    "\n",
    "# Print the minimum of the date column\n",
    "print(sales['date'].min())"
   ]
  },
  {
   "cell_type": "markdown",
   "metadata": {},
   "source": [
    "Cumulative statistics\n",
    "Cumulative statistics can also be helpful in tracking summary statistics over time. In this exercise, you'll calculate the cumulative sum and cumulative max of a department's weekly sales, which will allow you to identify what the total sales were so far as well as what the highest weekly sales were so far.\n",
    "\n",
    "A DataFrame called sales_1_1 has been created for you, which contains the sales data for department 1 of store 1. pandas is loaded as pd."
   ]
  },
  {
   "cell_type": "code",
   "execution_count": 4,
   "metadata": {},
   "outputs": [
    {
     "name": "stdout",
     "output_type": "stream",
     "text": [
      "         date  weekly_sales  cum_weekly_sales  cum_max_sales\n",
      "0  2010-02-05      24924.50          24924.50       24924.50\n",
      "1  2010-03-05      21827.90          46752.40       24924.50\n",
      "2  2010-04-02      57258.43         104010.83       57258.43\n",
      "3  2010-05-07      17413.94         121424.77       57258.43\n",
      "4  2010-06-04      17558.09         138982.86       57258.43\n"
     ]
    }
   ],
   "source": [
    "sales_1_1 = sales.head()\n",
    "# Sort sales_1_1 by date\n",
    "sales_1_1 = sales_1_1.sort_values('date', ascending=True)\n",
    "# Get the cumulative sum of weekly_sales, add as cum_weekly_sales col\n",
    "sales_1_1['cum_weekly_sales'] = sales_1_1['weekly_sales'].cumsum()\n",
    "sales_1_1\n",
    "\n",
    "\n",
    "# # Get the cumulative max of weekly_sales, add as cum_max_sales col\n",
    "sales_1_1['cum_max_sales'] = sales_1_1['weekly_sales'].cummax()\n",
    "\n",
    "# # See the columns you calculated\n",
    "print(sales_1_1[[\"date\", \"weekly_sales\", \"cum_weekly_sales\", \"cum_max_sales\"]])"
   ]
  },
  {
   "cell_type": "markdown",
   "metadata": {},
   "source": [
    "## II. Counting\n",
    "### (Theory)"
   ]
  },
  {
   "cell_type": "markdown",
   "metadata": {},
   "source": [
    "1. Dropping duplicate names\n",
    "```python\n",
    " vet_visits.drop_duplicates(subset=\"name\")\n",
    "```\n",
    "![{BBF1423B-AAD6-46D4-BC39-B906F995FE8D}.png](./images/{BBF1423B-AAD6-46D4-BC39-B906F995FE8D}.png)\n",
    "\n",
    "2. dropping duplicate pairs\n",
    "```python\n",
    " unique_dogs = vet_visits.drop_duplicates(subset=[\"name\", \"breed\"]) \n",
    "print(unique_dogs)\n",
    "```\n",
    "![image.png](./images/image.png)\n",
    "\n",
    "3. Counting unique values\n",
    "![image.png](./images/image%20copy.png)\n",
    "\n",
    "4. proportions\n",
    "![image.png](./images/image%20copy%202.png)\n"
   ]
  },
  {
   "cell_type": "markdown",
   "metadata": {},
   "source": [
    "### 2. (Practice)"
   ]
  },
  {
   "cell_type": "markdown",
   "metadata": {},
   "source": [
    "1. Dropping duplicates\n",
    "Removing duplicates is an essential skill to get accurate counts because often, you don't want to count the same thing multiple times. In this exercise, you'll create some new DataFrames using unique values from sales.\n",
    "\n",
    "sales is available and pandas is imported as pd."
   ]
  },
  {
   "cell_type": "code",
   "execution_count": 5,
   "metadata": {},
   "outputs": [
    {
     "name": "stdout",
     "output_type": "stream",
     "text": [
      "      Unnamed: 0  store type  department        date  weekly_sales  \\\n",
      "0              0      1    A           1  2010-02-05      24924.50   \n",
      "901          901      2    A           1  2010-02-05      35034.06   \n",
      "1798        1798      4    A           1  2010-02-05      38724.42   \n",
      "2699        2699      6    A           1  2010-02-05      25619.00   \n",
      "3593        3593     10    B           1  2010-02-05      40212.84   \n",
      "\n",
      "      is_holiday  temperature_c  fuel_price_usd_per_l  unemployment  \n",
      "0          False       5.727778              0.679451         8.106  \n",
      "901        False       4.550000              0.679451         8.324  \n",
      "1798       False       6.533333              0.686319         8.623  \n",
      "2699       False       4.683333              0.679451         7.259  \n",
      "3593       False      12.411111              0.782478         9.765  \n",
      "    Unnamed: 0  store type  department        date  weekly_sales  is_holiday  \\\n",
      "0            0      1    A           1  2010-02-05      24924.50       False   \n",
      "12          12      1    A           2  2010-02-05      50605.27       False   \n",
      "24          24      1    A           3  2010-02-05      13740.12       False   \n",
      "36          36      1    A           4  2010-02-05      39954.04       False   \n",
      "48          48      1    A           5  2010-02-05      32229.38       False   \n",
      "\n",
      "    temperature_c  fuel_price_usd_per_l  unemployment  \n",
      "0        5.727778              0.679451         8.106  \n",
      "12       5.727778              0.679451         8.106  \n",
      "24       5.727778              0.679451         8.106  \n",
      "36       5.727778              0.679451         8.106  \n",
      "48       5.727778              0.679451         8.106  \n",
      "498     2010-09-10\n",
      "691     2011-11-25\n",
      "2315    2010-02-12\n",
      "6735    2012-09-07\n",
      "6810    2010-12-31\n",
      "6815    2012-02-10\n",
      "6820    2011-09-09\n",
      "Name: date, dtype: object\n"
     ]
    }
   ],
   "source": [
    "import pandas as pd\n",
    "sales = pd.read_csv('./data/sales_subset.csv')\n",
    "\n",
    "# # Drop duplicate store/type combinations\n",
    "\n",
    "store_types = sales.drop_duplicates(subset=['store','type'])\n",
    "print(store_types.head())\n",
    "\n",
    "# # Drop duplicate store/department combinations\n",
    "store_depts = sales.drop_duplicates(subset=['store','department'])\n",
    "print(store_depts.head())\n",
    "\n",
    "# # Subset the rows where is_holiday is True and drop duplicate dates\n",
    "holiday_dates = sales[sales['is_holiday']==True].drop_duplicates(subset='date')\n",
    "\n",
    "# # Print date col of holiday_dates\n",
    "print(holiday_dates['date'])"
   ]
  },
  {
   "cell_type": "markdown",
   "metadata": {},
   "source": [
    "2. Counting categorical variables\n",
    "Counting is a great way to get an overview of your data and to spot curiosities that you might not notice otherwise. In this exercise, you'll count the number of each type of store and the number of each department number using the DataFrames you created in the previous exercise:\n",
    "\n",
    "```python\n",
    "# Drop duplicate store/type combinations\n",
    "store_types = sales.drop_duplicates(subset=[\"store\", \"type\"])\n",
    "\n",
    "# Drop duplicate store/department combinations\n",
    "store_depts = sales.drop_duplicates(subset=[\"store\", \"department\"])\n",
    "```\n",
    "The store_types and store_depts DataFrames you created in the last exercise are available, and pandas is imported as pd."
   ]
  },
  {
   "cell_type": "code",
   "execution_count": 6,
   "metadata": {},
   "outputs": [
    {
     "name": "stdout",
     "output_type": "stream",
     "text": [
      "type\n",
      "A    11\n",
      "B     1\n",
      "Name: count, dtype: int64\n",
      "type\n",
      "A    0.916667\n",
      "B    0.083333\n",
      "Name: proportion, dtype: float64\n",
      "department\n",
      "1     12\n",
      "55    12\n",
      "72    12\n",
      "71    12\n",
      "67    12\n",
      "      ..\n",
      "37    10\n",
      "48     8\n",
      "50     6\n",
      "39     4\n",
      "43     2\n",
      "Name: count, Length: 80, dtype: int64\n",
      "department\n",
      "1     0.012917\n",
      "55    0.012917\n",
      "72    0.012917\n",
      "71    0.012917\n",
      "67    0.012917\n",
      "        ...   \n",
      "37    0.010764\n",
      "48    0.008611\n",
      "50    0.006459\n",
      "39    0.004306\n",
      "43    0.002153\n",
      "Name: proportion, Length: 80, dtype: float64\n"
     ]
    }
   ],
   "source": [
    "# Count the number of stores of each type\n",
    "store_counts = store_types['type'].value_counts()\n",
    "print(store_counts)\n",
    "\n",
    "# Get the proportion of stores of each type\n",
    "store_props = store_types['type'].value_counts(normalize=True)\n",
    "print(store_props)\n",
    "\n",
    "# Count the number of stores for each department and sort\n",
    "dept_counts_sorted = store_depts['department'].value_counts(sort=True)\n",
    "print(dept_counts_sorted)\n",
    "\n",
    "# Get the proportion of stores in each department and sort\n",
    "dept_props_sorted = store_depts['department'].value_counts(sort=True, normalize=True)\n",
    "print(dept_props_sorted)"
   ]
  },
  {
   "cell_type": "markdown",
   "metadata": {},
   "source": [
    "## II. Grouping\n",
    "### (Theory)"
   ]
  },
  {
   "cell_type": "markdown",
   "metadata": {},
   "source": [
    "1. Summaries by group\n",
    "  we often want to summarize data by group. For example, we might want to know the average height of dogs by breed. To do this, we can use the following code:\n",
    "```python\n",
    " dogs[dogs[\"color\"] == \"Black\"][\"weight_kg\"].mean() \n",
    "dogs[dogs[\"color\"] == \"Brown\"][\"weight_kg\"].mean() \n",
    "dogs[dogs[\"color\"] == \"White\"][\"weight_kg\"].mean() \n",
    "dogs[dogs[\"color\"] == \"Gray\"][\"weight_kg\"].mean() \n",
    "dogs[dogs[\"color\"] == \"Tan\"][\"weight_kg\"].mean() \n",
    "dogs[dogs[\"color\"] == \"Yellow\"][\"weight_kg\"].mean() \n",
    "```\n",
    "\n",
    "but this is not efficient. Instead, we can use the groupby() method to group the data by color and then apply the mean() function to each group:\n",
    "```python\n",
    "dogs.groupby(\"color\")[\"weight_kg\"].mean() \n",
    "```\n",
    "output:   \n",
    "```\n",
    "\n",
    "color\n",
    "\n",
    "Black     22.6\n",
    "Brown    24.0\n",
    "Gray     23.0\n",
    "Tan      23.0\n",
    "White    23.0\n",
    "Yellow   23.0\n",
    "```\n",
    "\n",
    "\n",
    "\n",
    "\n",
    "2. Grouping by multiple columns/ variables\n",
    "```python\n",
    "dogs.groupby([\"color\", \"breed\"])[\"weight_kg\"].mean() \n",
    "```\n",
    "output: \n",
    "```\n",
    " \n",
    "color  breed\n",
    "Black  Labrador Retriever    30.0\n",
    "       Poodle                20.0\n",
    "        Rottweiler            25.0\n",
    "        Shih Tzu              10.0\n",
    "        Yorkshire Terrier      5.0\n",
    "        Name: weight_kg, dtype: float64\n",
    "```\n",
    "3. multiple aggregations / multiple grouped summaries\n",
    "```python\n",
    "dogs.groupby(\"color\")[\"weight_kg\"].agg([\"mean\", \"std\", \"min\", \"max\"]) \n",
    "```\n",
    "output: \n",
    "```\n",
    "          mean   std   min   max\n",
    "color\n",
    "Black     22.6  2.0  20.0  25.0\n",
    "Brown    24.0  2.0  22.0  26.0\n",
    "Gray     23.0  2.0  21.0  25.0\n",
    "Tan      23.0  2.0  21.0  25.0\n",
    "White    23.0  2.0  21.0  25.0\n",
    "Yellow   23.0  2.0  21.0  25.0\n",
    "```\n",
    "\n",
    "4. many groups, many summaries\n",
    "```python\n",
    "dogs.groupby([\"color\", \"breed\"])[\"weight_kg\"].agg([\"mean\", \"std\", \"min\", \"max\"]) \n",
    "```\n",
    "output: \n",
    "```\n",
    "                      mean   std   min   max\n",
    "color  breed\n",
    "\n",
    "Black  Labrador Retriever    30.0  2.0  28.0  32.0\n",
    "       Poodle                20.0  2.0  18.0  22.0\n",
    "        Rottweiler            25.0  2.0  23.0  27.0\n",
    "        Shih Tzu              10.0  2.0   8.0  12.0\n",
    "        Yorkshire Terrier      5.0   NaN   NaN   NaN\n",
    "        Name: weight_kg, dtype: float64\n",
    "```\n"
   ]
  },
  {
   "cell_type": "markdown",
   "metadata": {},
   "source": [
    "### 3. (Practice)"
   ]
  },
  {
   "cell_type": "markdown",
   "metadata": {},
   "source": [
    "1. What percent of sales occurred at each store type?\n",
    "While .groupby() is useful, you can calculate grouped summary statistics without it.\n",
    "\n",
    "Walmart distinguishes three types of stores: \"supercenters,\" \"discount stores,\" and \"neighborhood markets,\" encoded in this dataset as type \"A,\" \"B,\" and \"C.\" In this exercise, you'll calculate the total sales made at each store type, without using .groupby(). You can then use these numbers to see what proportion of Walmart's total sales were made at each type.\n",
    "\n",
    "sales is available and pandas is imported as pd."
   ]
  },
  {
   "cell_type": "code",
   "execution_count": 7,
   "metadata": {},
   "outputs": [
    {
     "name": "stdout",
     "output_type": "stream",
     "text": [
      "[0.9097747 0.0902253 0.       ]\n"
     ]
    }
   ],
   "source": [
    "# Calc total weekly sales\n",
    "sales_all = sales[\"weekly_sales\"].sum()\n",
    "# # Subset for type A stores, calc total weekly sales\n",
    "sales_A = sales[sales[\"type\"] == \"A\"][\"weekly_sales\"].sum()\n",
    "sales_A\n",
    "\n",
    "# # Subset for type B stores, calc total weekly sales\n",
    "sales_B = sales[sales['type']=='B']['weekly_sales'].sum()\n",
    "sales_B\n",
    "\n",
    "# # Subset for type C stores, calc total weekly sales\n",
    "sales_C = sales[sales['type']=='C']['weekly_sales'].sum()\n",
    "\n",
    "# # Get proportion for each type\n",
    "sales_propn_by_type = [sales_A, sales_B, sales_C] / sales_all\n",
    "print(sales_propn_by_type)"
   ]
  },
  {
   "cell_type": "markdown",
   "metadata": {},
   "source": [
    "2. Calculations with .groupby()\n",
    "The .groupby() method makes life much easier. In this exercise, you'll perform the same calculations as last time, except you'll use the .groupby() method. You'll also perform calculations on data grouped by two variables to see if sales differ by store type depending on if it's a holiday week or not.\n",
    "\n",
    "sales is available and pandas is loaded as pd."
   ]
  },
  {
   "cell_type": "code",
   "execution_count": 8,
   "metadata": {},
   "outputs": [
    {
     "name": "stdout",
     "output_type": "stream",
     "text": [
      "type\n",
      "A    0.909775\n",
      "B    0.090225\n",
      "Name: weekly_sales, dtype: float64\n"
     ]
    }
   ],
   "source": [
    "# Group by type; calc total weekly sales\n",
    "sales_by_type = sales.groupby(\"type\")[\"weekly_sales\"].sum()\n",
    "\n",
    "# Get proportion for each type\n",
    "sales_propn_by_type = sales_by_type / sum(sales_by_type)\n",
    "print(sales_propn_by_type)"
   ]
  },
  {
   "cell_type": "markdown",
   "metadata": {},
   "source": [
    "Calculations with .groupby()\n",
    "The .groupby() method makes life much easier. In this exercise, you'll perform the same calculations as last time, except you'll use the .groupby() method. You'll also perform calculations on data grouped by two variables to see if sales differ by store type depending on if it's a holiday week or not.\n",
    "\n",
    "sales is available and pandas is loaded as pd."
   ]
  },
  {
   "cell_type": "code",
   "execution_count": 9,
   "metadata": {},
   "outputs": [
    {
     "name": "stdout",
     "output_type": "stream",
     "text": [
      "type  is_holiday\n",
      "A     False         2.336927e+08\n",
      "      True          2.360181e+04\n",
      "B     False         2.317678e+07\n",
      "      True          1.621410e+03\n",
      "Name: weekly_sales, dtype: float64\n"
     ]
    }
   ],
   "source": [
    "# From previous step\n",
    "sales_by_type = sales.groupby(\"type\")[\"weekly_sales\"].sum()\n",
    "\n",
    "# Group by type and is_holiday; calc total weekly sales\n",
    "sales_by_type_is_holiday = sales.groupby(['type', 'is_holiday'])['weekly_sales'].sum()\n",
    "print(sales_by_type_is_holiday)"
   ]
  },
  {
   "cell_type": "markdown",
   "metadata": {},
   "source": [
    "Multiple grouped summaries\n",
    "Earlier in this chapter, you saw that the .agg() method is useful to compute multiple statistics on multiple variables. It also works with grouped data. NumPy, which is imported as np, has many different summary statistics functions, including: np.min, np.max, np.mean, and np.median.\n",
    "\n",
    "sales is available and pandas is imported as pd."
   ]
  },
  {
   "cell_type": "code",
   "execution_count": 10,
   "metadata": {},
   "outputs": [
    {
     "name": "stdout",
     "output_type": "stream",
     "text": [
      "         min        max          mean    median\n",
      "type                                           \n",
      "A    -1098.0  293966.05  23674.667242  11943.92\n",
      "B     -798.0  232558.51  25696.678370  13336.08\n",
      "     unemployment                         fuel_price_usd_per_l            \\\n",
      "              min    max      mean median                  min       max   \n",
      "type                                                                       \n",
      "A           3.879  8.992  7.972611  8.067             0.664129  1.107410   \n",
      "B           7.170  9.765  9.279323  9.199             0.760023  1.107674   \n",
      "\n",
      "                          \n",
      "          mean    median  \n",
      "type                      \n",
      "A     0.744619  0.735455  \n",
      "B     0.805858  0.803348  \n"
     ]
    },
    {
     "name": "stderr",
     "output_type": "stream",
     "text": [
      "C:\\Users\\mrhas\\AppData\\Local\\Temp\\ipykernel_30100\\867137562.py:5: FutureWarning: The provided callable <built-in function min> is currently using SeriesGroupBy.min. In a future version of pandas, the provided callable will be used directly. To keep current behavior pass the string \"min\" instead.\n",
      "  sales_stats = sales.groupby('type')['weekly_sales'].agg([min, max, np.mean, np.median])\n",
      "C:\\Users\\mrhas\\AppData\\Local\\Temp\\ipykernel_30100\\867137562.py:5: FutureWarning: The provided callable <built-in function max> is currently using SeriesGroupBy.max. In a future version of pandas, the provided callable will be used directly. To keep current behavior pass the string \"max\" instead.\n",
      "  sales_stats = sales.groupby('type')['weekly_sales'].agg([min, max, np.mean, np.median])\n",
      "C:\\Users\\mrhas\\AppData\\Local\\Temp\\ipykernel_30100\\867137562.py:5: FutureWarning: The provided callable <function mean at 0x0000015E18034360> is currently using SeriesGroupBy.mean. In a future version of pandas, the provided callable will be used directly. To keep current behavior pass the string \"mean\" instead.\n",
      "  sales_stats = sales.groupby('type')['weekly_sales'].agg([min, max, np.mean, np.median])\n",
      "C:\\Users\\mrhas\\AppData\\Local\\Temp\\ipykernel_30100\\867137562.py:5: FutureWarning: The provided callable <function median at 0x0000015E18164C20> is currently using SeriesGroupBy.median. In a future version of pandas, the provided callable will be used directly. To keep current behavior pass the string \"median\" instead.\n",
      "  sales_stats = sales.groupby('type')['weekly_sales'].agg([min, max, np.mean, np.median])\n",
      "C:\\Users\\mrhas\\AppData\\Local\\Temp\\ipykernel_30100\\867137562.py:11: FutureWarning: The provided callable <built-in function min> is currently using SeriesGroupBy.min. In a future version of pandas, the provided callable will be used directly. To keep current behavior pass the string \"min\" instead.\n",
      "  unemp_fuel_stats = sales.groupby('type')[['unemployment','fuel_price_usd_per_l']].agg([min, max, np.mean, np.median])\n",
      "C:\\Users\\mrhas\\AppData\\Local\\Temp\\ipykernel_30100\\867137562.py:11: FutureWarning: The provided callable <built-in function max> is currently using SeriesGroupBy.max. In a future version of pandas, the provided callable will be used directly. To keep current behavior pass the string \"max\" instead.\n",
      "  unemp_fuel_stats = sales.groupby('type')[['unemployment','fuel_price_usd_per_l']].agg([min, max, np.mean, np.median])\n",
      "C:\\Users\\mrhas\\AppData\\Local\\Temp\\ipykernel_30100\\867137562.py:11: FutureWarning: The provided callable <function mean at 0x0000015E18034360> is currently using SeriesGroupBy.mean. In a future version of pandas, the provided callable will be used directly. To keep current behavior pass the string \"mean\" instead.\n",
      "  unemp_fuel_stats = sales.groupby('type')[['unemployment','fuel_price_usd_per_l']].agg([min, max, np.mean, np.median])\n",
      "C:\\Users\\mrhas\\AppData\\Local\\Temp\\ipykernel_30100\\867137562.py:11: FutureWarning: The provided callable <function median at 0x0000015E18164C20> is currently using SeriesGroupBy.median. In a future version of pandas, the provided callable will be used directly. To keep current behavior pass the string \"median\" instead.\n",
      "  unemp_fuel_stats = sales.groupby('type')[['unemployment','fuel_price_usd_per_l']].agg([min, max, np.mean, np.median])\n",
      "C:\\Users\\mrhas\\AppData\\Local\\Temp\\ipykernel_30100\\867137562.py:11: FutureWarning: The provided callable <built-in function min> is currently using SeriesGroupBy.min. In a future version of pandas, the provided callable will be used directly. To keep current behavior pass the string \"min\" instead.\n",
      "  unemp_fuel_stats = sales.groupby('type')[['unemployment','fuel_price_usd_per_l']].agg([min, max, np.mean, np.median])\n"
     ]
    }
   ],
   "source": [
    "# Import numpy with the alias np\n",
    "import numpy as np\n",
    "sales\n",
    "# For each store type, aggregate weekly_sales: get min, max, mean, and median\n",
    "sales_stats = sales.groupby('type')['weekly_sales'].agg([min, max, np.mean, np.median])\n",
    "\n",
    "# Print sales_stats\n",
    "print(sales_stats)\n",
    "\n",
    "# # For each store type, aggregate unemployment and fuel_price_usd_per_l: get min, max, mean, and median\n",
    "unemp_fuel_stats = sales.groupby('type')[['unemployment','fuel_price_usd_per_l']].agg([min, max, np.mean, np.median])\n",
    "\n",
    "# # Print unemp_fuel_stats\n",
    "print(unemp_fuel_stats)"
   ]
  },
  {
   "cell_type": "markdown",
   "metadata": {},
   "source": [
    "## III. Pivot tables\n",
    "\n",
    "### (theory"
   ]
  },
  {
   "cell_type": "markdown",
   "metadata": {},
   "source": [
    "1. Group by pivot table\n",
    "\n",
    "In the last lesson, we grouped the dogs by color and calculated their mean weights. We can do the same thing using the pivot_table method. The \"values\" argument is the column that you want to summarize, and the index column is the column that you want to group by. By default, pivot_table takes the mean value for each group.\n",
    "\n",
    " By default, pivot_table takes the mean value for each group.\n",
    "\n",
    "![image.png](./images/image%20copy%203.png)\n"
   ]
  },
  {
   "cell_type": "markdown",
   "metadata": {},
   "source": [
    "2. If we want a different summary statistic, we can use the aggfunc argument and pass it a function. Here, we take the median for each dog color using NumPy's median function.\n",
    "\n",
    "```python\n",
    "import numpy as np\n",
    "dogs.pivot_table(values=\"weight_kg\", index=\"color\", aggfunc=np.median)\n",
    "```\n",
    "output: \n",
    "```\n",
    "\n",
    "color\n",
    "Black     22.6\n",
    "Brown    24.0\n",
    "Gray     23.0\n",
    "Tan      23.0\n",
    "White    23.0\n",
    "Yellow   23.0\n",
    "```\n"
   ]
  },
  {
   "cell_type": "markdown",
   "metadata": {},
   "source": [
    "3. To get multiple summary statistics at a time, we can pass a list of functions to the aggfunc argument. Here, we get the mean and median for each dog color.\n",
    "\n",
    "```python\n",
    "import numpy as np\n",
    "dogs.pivot_table(values=\"weight_kg\", index=\"color\", aggfunc=[np.mean, np.median])\n",
    "```\n",
    "output: \n",
    "```\n",
    "          mean  median\n",
    "color\n",
    "Black     22.6    22.6\n",
    "Brown    24.0    24.0\n",
    "Gray     23.0    23.0\n",
    "Tan      23.0    23.0\n",
    "White    23.0    23.0\n",
    "Yellow   23.0    23.0\n",
    "```\n"
   ]
  },
  {
   "cell_type": "markdown",
   "metadata": {},
   "source": [
    "5. Pivot on two variables: \n",
    "previously we computed the mean weight grouped by two variables: color and breed. We can also do this using the pivot_table method. To group by two variables, we can pass a second variable name into the columns argument. While the result looks a little different than what we had before, it contains the same numbers. There are NaNs, or missing values, because there are no black Chihuahuas or gray Labradors in our dataset, for example.\n",
    "\n",
    "```python\n",
    "dogs.pivot_table(values=\"weight_kg\", index=\"color\", columns=\"breed\", aggfunc=np.mean)\n",
    "```\n",
    "output: \n",
    "```\n",
    "breed  Chihuahua  Labrador Retriever  Poodle  Rottweiler  Shih Tzu  Yorkshire Terrier\n",
    "\n",
    "color\n",
    "Black        NaN                30.0     20.0       25.0      10.0               5.0\n",
    "Brown       22.0                 NaN      NaN        NaN       NaN               NaN\n",
    "Gray        NaN                 NaN      NaN        NaN       NaN               NaN\n",
    "Tan         22.0                 NaN      NaN        NaN       NaN               NaN\n",
    "White       22.0                 NaN      NaN        NaN       NaN               NaN\n",
    "Yellow      22.0                 NaN      NaN        NaN       NaN               NaN\n",
    "```"
   ]
  },
  {
   "cell_type": "markdown",
   "metadata": {},
   "source": [
    "6. Filling missing values in pivot tables: \n",
    "Instead of having lots of missing values in our pivot table, we can have them filled in using the fill_value argument. Here, all of the NaNs get filled in with zeros.\n",
    "\n",
    "```python\n",
    "dogs.pivot_table(values=\"weight_kg\", index=\"color\", columns=\"breed\", aggfunc=np.mean, fill_value=0)\n",
    "```\n",
    "output: \n",
    "```\n",
    "breed  Chihuahua  Labrador Retriever  Poodle  Rottweiler  Shih Tzu  Yorkshire Terrier\n",
    "\n",
    "color\n",
    "Black        0.0                30.0     20.0       25.0      10.0               5.0\n",
    "Brown       22.0                 0.0      0.0        0.0       0.0               0.0\n",
    "Gray        0.0                 0.0      0.0        0.0       0.0               0.0\n",
    "Tan         22.0                 0.0      0.0        0.0       0.0               0.0\n",
    "White       22.0                 0.0      0.0        0.0       0.0               0.0\n",
    "Yellow      22.0                 0.0      0.0        0.0       0.0               0.0\n",
    "```\n"
   ]
  },
  {
   "cell_type": "markdown",
   "metadata": {},
   "source": [
    "7. Summing with pivot tables: \n",
    "If we set the margins argument to True, the last row and last column of the pivot table contain the mean of all the values in the column or row, not including the missing values that were filled in with Os. For example, in the last row of the Labrador column, we can see that the mean weight of the Labradors is 26 kilograms. In the last column of the Brown row, the mean weight of the Brown dogs is 24 kilograms. The value in the bottom right, in the last row and last column, is the mean weight of all the dogs in the dataset. Using margins equals True allows us to see a summary statistic for multiple levels of the dataset: the entire dataset, grouped by one variable, by another variable, and by two variables.\n",
    "\n",
    "```python\n",
    "dogs.pivot_table(values=\"weight_kg\", index=\"color\", columns=\"breed\", aggfunc=np.mean, fill_value=0, margins=True)\n",
    "```\n",
    "output: \n",
    "```\n",
    "\n",
    "\n",
    "breed  Chihuahua  Labrador Retriever  Poodle  Rottweiler  Shih Tzu  Yorkshire Terrier  All\n",
    "color\n",
    "Black        0.0                30.0     20.0       25.0      10.0               5.0  22.6\n",
    "Brown       22.0                 0.0      0.0        0.0       0.0               0.0  24.0\n",
    "Gray        0.0                 0.0      0.0        0.0       0.0               0.0  23.0\n",
    "Tan         22.0                 0.0      0.0        0.0       0.0               0.0  23.0\n",
    "White       22.0                 0.0      0.0        0.0       0.0               0.0  23.0\n",
    "Yellow      22.0                 0.0      0.0        0.0       0.0               0.0  23.0\n",
    "All         22.6                26.0     20.0       25.0      10.0               5.0  23.0\n",
    "```\n"
   ]
  }
 ],
 "metadata": {
  "kernelspec": {
   "display_name": "Python 3",
   "language": "python",
   "name": "python3"
  },
  "language_info": {
   "codemirror_mode": {
    "name": "ipython",
    "version": 3
   },
   "file_extension": ".py",
   "mimetype": "text/x-python",
   "name": "python",
   "nbconvert_exporter": "python",
   "pygments_lexer": "ipython3",
   "version": "3.11.4"
  }
 },
 "nbformat": 4,
 "nbformat_minor": 2
}
