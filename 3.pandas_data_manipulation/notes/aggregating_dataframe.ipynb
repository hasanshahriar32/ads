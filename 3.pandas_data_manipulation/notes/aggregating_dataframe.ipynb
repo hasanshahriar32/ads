{
 "cells": [
  {
   "cell_type": "markdown",
   "metadata": {},
   "source": [
    "# Aggregating Dataframe"
   ]
  },
  {
   "cell_type": "code",
   "execution_count": 1,
   "metadata": {},
   "outputs": [
    {
     "data": {
      "text/html": [
       "\n",
       "        <iframe\n",
       "            width=\"100%\"\n",
       "            height=\"600px\"\n",
       "            src=\"https://projector-video-pdf-converter.datacamp.com/22066/chapter2.pdf\"\n",
       "            frameborder=\"0\"\n",
       "            allowfullscreen\n",
       "            \n",
       "        ></iframe>\n",
       "        "
      ],
      "text/plain": [
       "<IPython.lib.display.IFrame at 0x74af0d52d1c0>"
      ]
     },
     "execution_count": 1,
     "metadata": {},
     "output_type": "execute_result"
    }
   ],
   "source": [
    "from IPython.display import IFrame\n",
    "\n",
    "# Display PDF with responsive width and height\n",
    "IFrame(\"https://projector-video-pdf-converter.datacamp.com/22066/chapter2.pdf\", width=\"100%\", height=\"600px\")"
   ]
  },
  {
   "cell_type": "markdown",
   "metadata": {},
   "source": [
    "## I. Summary Statistics\n",
    "### (Theory)"
   ]
  },
  {
   "cell_type": "markdown",
   "metadata": {},
   "source": [
    "(a). Summarizing numerical data\n",
    "- .median() \n",
    "- .mode()\n",
    "- .min() \n",
    "- .max()\n",
    "- .var()  \n",
    "- .std()\n",
    "- .sum()\n",
    "- .quantile()\n",
    "\n",
    "example:\n",
    "```python\n",
    "dogs[\"height_cm\"].mean()\n",
    "```\n",
    "\n",
    "\n",
    "\n",
    "(b). Summarizing dates\n",
    "- Oldest dog:\n",
    "```python\n",
    "dogs[\"date_of_birth\"].min()\n",
    "```\n",
    "\n",
    "- Youngest dog:\n",
    "```python\n",
    "dogs[\"date_of_birth\"].max()\n",
    "```\n",
    "\n",
    "(c). the .agg() method\n",
    "- .agg() method allows you to apply multiple functions to a DataFrame or Series.\n",
    "- You can pass a list of functions to .agg() to apply them to the DataFrame or Series.\n",
    "\n",
    "example 1 : percentile determination of a certain column\n",
    "```python\n",
    "def pct30(column):\n",
    "return column.quantile(0.3)\n",
    "\n",
    "dogs[\"weight_kg\"].agg(pct30) #22.599999999999998\n",
    "```\n",
    "\n",
    "example 2: Summaries on multiple columns\n",
    "```python\n",
    "dogs[[\"weight_kg\", \"height_cm\"]].agg(pct30)\n",
    "```\n",
    "output 2: \n",
    "```\n",
    "weight_kg 22.6\n",
    "height_cm 45.4\n",
    "dtype: float64\n",
    "```\n",
    "\n",
    "example 3: multiple summaries\n",
    "```python\n",
    "def pct40(column):\n",
    "return column.quantile(0.4)\n",
    "dogs[\"weight_kg\"].agg([pct30, pct40])\n",
    "```\n",
    "output 3:\n",
    "```\n",
    "pct30 22.6\n",
    "pct40 24.0\n",
    "Name: weight_kg, dtype: float64\n",
    "```\n",
    "\n",
    "(d). commutative \n",
    "[![https://imgur.com/SIuU5kQ.png](https://imgur.com/SIuU5kQ.png)](https://imgur.com/SIuU5kQ.png)\n",
    "\n",
    "\n",
    "(e). Commutative statistics\n",
    "- .cummax()\n",
    "- .cummin()\n",
    "- .cumprod()"
   ]
  },
  {
   "cell_type": "code",
   "execution_count": null,
   "metadata": {},
   "outputs": [],
   "source": []
  }
 ],
 "metadata": {
  "kernelspec": {
   "display_name": "Python 3",
   "language": "python",
   "name": "python3"
  },
  "language_info": {
   "codemirror_mode": {
    "name": "ipython",
    "version": 3
   },
   "file_extension": ".py",
   "mimetype": "text/x-python",
   "name": "python",
   "nbconvert_exporter": "python",
   "pygments_lexer": "ipython3",
   "version": "3.12.1"
  }
 },
 "nbformat": 4,
 "nbformat_minor": 2
}
